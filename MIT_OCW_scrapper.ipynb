{
  "nbformat": 4,
  "nbformat_minor": 0,
  "metadata": {
    "colab": {
      "name": "MIT-OCW-scrapper.ipynb",
      "version": "0.3.2",
      "provenance": [],
      "collapsed_sections": []
    },
    "language_info": {
      "codemirror_mode": {
        "name": "ipython",
        "version": 3
      },
      "file_extension": ".py",
      "mimetype": "text/x-python",
      "name": "python",
      "nbconvert_exporter": "python",
      "pygments_lexer": "ipython3",
      "version": "3.7.1"
    },
    "kernelspec": {
      "display_name": "Python 3",
      "language": "python",
      "name": "python3"
    }
  },
  "cells": [
    {
      "cell_type": "code",
      "metadata": {
        "id": "RatdRMkUCSUy",
        "colab_type": "code",
        "colab": {}
      },
      "source": [
        "import sys"
      ],
      "execution_count": 0,
      "outputs": []
    },
    {
      "cell_type": "code",
      "metadata": {
        "scrolled": true,
        "id": "BJPVXb4KCSVA",
        "colab_type": "code",
        "outputId": "600cb772-d420-49de-855d-2b43a318a662",
        "colab": {
          "base_uri": "https://localhost:8080/",
          "height": 53
        }
      },
      "source": [
        "print(sys.version)"
      ],
      "execution_count": 0,
      "outputs": [
        {
          "output_type": "stream",
          "text": [
            "3.6.7 (default, Oct 22 2018, 11:32:17) \n",
            "[GCC 8.2.0]\n"
          ],
          "name": "stdout"
        }
      ]
    },
    {
      "cell_type": "code",
      "metadata": {
        "id": "GsQUIrlwCSVM",
        "colab_type": "code",
        "colab": {}
      },
      "source": [
        "import requests\n"
      ],
      "execution_count": 0,
      "outputs": []
    },
    {
      "cell_type": "code",
      "metadata": {
        "id": "cJXs6bTpCSVX",
        "colab_type": "code",
        "colab": {}
      },
      "source": [
        "baseurl = \"https://ocw.mit.edu\"\n",
        "\n",
        "levels = ['Undergraduate','Graduate']\n",
        "\n",
        "courses = ['electrical-engineering-and-computer-science', \\\n",
        "          'mechanical-engineering', \\\n",
        "          'mathematics', \\\n",
        "          'biological-engineering', \\\n",
        "          'nuclear-engineering', \\\n",
        "          'physics', \\\n",
        "          'civil-and-environmental-engineering', \\\n",
        "          'chemical-engineering']\n",
        "\n",
        "\n",
        "\n",
        "course = courses[0]\n",
        "level = levels[0]\n",
        "r = requests.get('https://ocw.mit.edu/courses/'+ course) "
      ],
      "execution_count": 0,
      "outputs": []
    },
    {
      "cell_type": "markdown",
      "metadata": {
        "id": "7wnAVgmrTnrT",
        "colab_type": "text"
      },
      "source": [
        "\n",
        "# Contributors are requested to do the following in your private clouds  \n",
        "\n",
        "### * create dir j in GDrive for j in courses \n",
        "###  *    caller(i,j)    for j in level   for i in course:\n",
        "###    -> caller(i,j)\n",
        "                 crawl_and_get(i,j)\n",
        "                 move zip as i to dir j in GDrive\n",
        "                 remove ./*.zip\n",
        "          \n",
        "           \n",
        "          "
      ]
    },
    {
      "cell_type": "code",
      "metadata": {
        "id": "uUJ8CKhUCSVe",
        "colab_type": "code",
        "outputId": "84cdd443-3fea-4733-f161-5669dc11432d",
        "colab": {
          "base_uri": "https://localhost:8080/",
          "height": 35
        }
      },
      "source": [
        "r = requests.get('https://ocw.mit.edu/courses/'+ course) \n",
        "r.status_code\n",
        "r.encoding = 'utf-8'\n",
        "html = r.content\n",
        "soup = BeautifulSoup(html, 'html.parser')"
      ],
      "execution_count": 0,
      "outputs": [
        {
          "output_type": "execute_result",
          "data": {
            "text/plain": [
              "200"
            ]
          },
          "metadata": {
            "tags": []
          },
          "execution_count": 27
        }
      ]
    },
    {
      "cell_type": "code",
      "metadata": {
        "id": "vY4z6mi7CSVm",
        "colab_type": "code",
        "outputId": "7518025b-f22f-4743-d312-56f2f3b3aa84",
        "colab": {
          "base_uri": "https://localhost:8080/",
          "height": 35
        }
      },
      "source": [
        "r.encoding"
      ],
      "execution_count": 0,
      "outputs": [
        {
          "output_type": "execute_result",
          "data": {
            "text/plain": [
              "'UTF-8'"
            ]
          },
          "metadata": {
            "tags": []
          },
          "execution_count": 28
        }
      ]
    },
    {
      "cell_type": "code",
      "metadata": {
        "id": "hGqQzZ3xCSVw",
        "colab_type": "code",
        "colab": {}
      },
      "source": [
        "r.encoding = 'utf-8'"
      ],
      "execution_count": 0,
      "outputs": []
    },
    {
      "cell_type": "code",
      "metadata": {
        "id": "mrVh1C6XCSV2",
        "colab_type": "code",
        "outputId": "933880ef-01aa-4545-d958-63b2a8271adb",
        "colab": {
          "base_uri": "https://localhost:8080/",
          "height": 35
        }
      },
      "source": [
        "r.encoding"
      ],
      "execution_count": 0,
      "outputs": [
        {
          "output_type": "execute_result",
          "data": {
            "text/plain": [
              "'utf-8'"
            ]
          },
          "metadata": {
            "tags": []
          },
          "execution_count": 30
        }
      ]
    },
    {
      "cell_type": "code",
      "metadata": {
        "id": "LXVtRYmECSWD",
        "colab_type": "code",
        "colab": {}
      },
      "source": [
        "#r.content"
      ],
      "execution_count": 0,
      "outputs": []
    },
    {
      "cell_type": "code",
      "metadata": {
        "id": "pzb4Xm0rCSWR",
        "colab_type": "code",
        "colab": {}
      },
      "source": [
        "from bs4 import BeautifulSoup"
      ],
      "execution_count": 0,
      "outputs": []
    },
    {
      "cell_type": "code",
      "metadata": {
        "id": "7fmfvJ_eCSWa",
        "colab_type": "code",
        "colab": {}
      },
      "source": [
        "html = r.content"
      ],
      "execution_count": 0,
      "outputs": []
    },
    {
      "cell_type": "code",
      "metadata": {
        "id": "7mudu1QDCSWh",
        "colab_type": "code",
        "colab": {}
      },
      "source": [
        "soup = BeautifulSoup(html, 'html.parser')"
      ],
      "execution_count": 0,
      "outputs": []
    },
    {
      "cell_type": "code",
      "metadata": {
        "id": "WTJ9OUC5CSWn",
        "colab_type": "code",
        "colab": {}
      },
      "source": [
        "#print(soup.prettify())"
      ],
      "execution_count": 0,
      "outputs": []
    },
    {
      "cell_type": "code",
      "metadata": {
        "scrolled": false,
        "id": "N52zzyCpCSWs",
        "colab_type": "code",
        "colab": {}
      },
      "source": [
        "#print(soup.body)\n",
        "from pprint import pprint"
      ],
      "execution_count": 0,
      "outputs": []
    },
    {
      "cell_type": "code",
      "metadata": {
        "id": "CBQUScr5CSWw",
        "colab_type": "code",
        "colab": {}
      },
      "source": [
        "gh=soup.body.find_all('a',{'class':'preview' ,'rel':'coursePreview'})\n",
        "datastore = dict()"
      ],
      "execution_count": 0,
      "outputs": []
    },
    {
      "cell_type": "code",
      "metadata": {
        "id": "trAgyZ3tCSW1",
        "colab_type": "code",
        "outputId": "f9f79f8d-1f58-4197-bdbf-4eb52e052142",
        "colab": {
          "base_uri": "https://localhost:8080/",
          "height": 3434
        }
      },
      "source": [
        "for i in gh:\n",
        "    if course in i['href'].split('/') :\n",
        "        datastore[str(i['href']).split('/')[-1]] = baseurl + i['href']  ; \n",
        "pprint(datastore)\n",
        "\n",
        "pprint(len(datastore))"
      ],
      "execution_count": 0,
      "outputs": [
        {
          "output_type": "stream",
          "text": [
            "{'6-00-introduction-to-computer-science-and-programming-fall-2008': 'https://ocw.mit.edu/courses/electrical-engineering-and-computer-science/6-00-introduction-to-computer-science-and-programming-fall-2008',\n",
            " '6-0001-introduction-to-computer-science-and-programming-in-python-fall-2016': 'https://ocw.mit.edu/courses/electrical-engineering-and-computer-science/6-0001-introduction-to-computer-science-and-programming-in-python-fall-2016',\n",
            " '6-0002-introduction-to-computational-thinking-and-data-science-fall-2016': 'https://ocw.mit.edu/courses/electrical-engineering-and-computer-science/6-0002-introduction-to-computational-thinking-and-data-science-fall-2016',\n",
            " '6-001-structure-and-interpretation-of-computer-programs-spring-2005': 'https://ocw.mit.edu/courses/electrical-engineering-and-computer-science/6-001-structure-and-interpretation-of-computer-programs-spring-2005',\n",
            " '6-002-circuits-and-electronics-spring-2007': 'https://ocw.mit.edu/courses/electrical-engineering-and-computer-science/6-002-circuits-and-electronics-spring-2007',\n",
            " '6-003-signals-and-systems-fall-2011': 'https://ocw.mit.edu/courses/electrical-engineering-and-computer-science/6-003-signals-and-systems-fall-2011',\n",
            " '6-004-computation-structures-spring-2009': 'https://ocw.mit.edu/courses/electrical-engineering-and-computer-science/6-004-computation-structures-spring-2009',\n",
            " '6-005-elements-of-software-construction-fall-2008': 'https://ocw.mit.edu/courses/electrical-engineering-and-computer-science/6-005-elements-of-software-construction-fall-2008',\n",
            " '6-005-software-construction-spring-2016': 'https://ocw.mit.edu/courses/electrical-engineering-and-computer-science/6-005-software-construction-spring-2016',\n",
            " '6-006-introduction-to-algorithms-fall-2011': 'https://ocw.mit.edu/courses/electrical-engineering-and-computer-science/6-006-introduction-to-algorithms-fall-2011',\n",
            " '6-006-introduction-to-algorithms-spring-2008': 'https://ocw.mit.edu/courses/electrical-engineering-and-computer-science/6-006-introduction-to-algorithms-spring-2008',\n",
            " '6-007-electromagnetic-energy-from-motors-to-lasers-spring-2011': 'https://ocw.mit.edu/courses/electrical-engineering-and-computer-science/6-007-electromagnetic-energy-from-motors-to-lasers-spring-2011',\n",
            " '6-00sc-introduction-to-computer-science-and-programming-spring-2011': 'https://ocw.mit.edu/courses/electrical-engineering-and-computer-science/6-00sc-introduction-to-computer-science-and-programming-spring-2011',\n",
            " '6-011-introduction-to-communication-control-and-signal-processing-spring-2010': 'https://ocw.mit.edu/courses/electrical-engineering-and-computer-science/6-011-introduction-to-communication-control-and-signal-processing-spring-2010',\n",
            " '6-011-signals-systems-and-inference-spring-2018': 'https://ocw.mit.edu/courses/electrical-engineering-and-computer-science/6-011-signals-systems-and-inference-spring-2018',\n",
            " '6-012-microelectronic-devices-and-circuits-fall-2005': 'https://ocw.mit.edu/courses/electrical-engineering-and-computer-science/6-012-microelectronic-devices-and-circuits-fall-2005',\n",
            " '6-012-microelectronic-devices-and-circuits-fall-2009': 'https://ocw.mit.edu/courses/electrical-engineering-and-computer-science/6-012-microelectronic-devices-and-circuits-fall-2009',\n",
            " '6-012-microelectronic-devices-and-circuits-spring-2009': 'https://ocw.mit.edu/courses/electrical-engineering-and-computer-science/6-012-microelectronic-devices-and-circuits-spring-2009',\n",
            " '6-013-electromagnetics-and-applications-fall-2005': 'https://ocw.mit.edu/courses/electrical-engineering-and-computer-science/6-013-electromagnetics-and-applications-fall-2005',\n",
            " '6-013-electromagnetics-and-applications-spring-2009': 'https://ocw.mit.edu/courses/electrical-engineering-and-computer-science/6-013-electromagnetics-and-applications-spring-2009',\n",
            " '6-01sc-introduction-to-electrical-engineering-and-computer-science-i-spring-2011': 'https://ocw.mit.edu/courses/electrical-engineering-and-computer-science/6-01sc-introduction-to-electrical-engineering-and-computer-science-i-spring-2011',\n",
            " '6-02-introduction-to-eecs-ii-digital-communication-systems-fall-2012': 'https://ocw.mit.edu/courses/electrical-engineering-and-computer-science/6-02-introduction-to-eecs-ii-digital-communication-systems-fall-2012',\n",
            " '6-021j-quantitative-physiology-cells-and-tissues-fall-2004': 'https://ocw.mit.edu/courses/electrical-engineering-and-computer-science/6-021j-quantitative-physiology-cells-and-tissues-fall-2004',\n",
            " '6-033-computer-system-engineering-spring-2018': 'https://ocw.mit.edu/courses/electrical-engineering-and-computer-science/6-033-computer-system-engineering-spring-2018',\n",
            " '6-034-artificial-intelligence-fall-2010': 'https://ocw.mit.edu/courses/electrical-engineering-and-computer-science/6-034-artificial-intelligence-fall-2010',\n",
            " '6-034-artificial-intelligence-spring-2005': 'https://ocw.mit.edu/courses/electrical-engineering-and-computer-science/6-034-artificial-intelligence-spring-2005',\n",
            " '6-035-computer-language-engineering-sma-5502-fall-2005': 'https://ocw.mit.edu/courses/electrical-engineering-and-computer-science/6-035-computer-language-engineering-sma-5502-fall-2005',\n",
            " '6-035-computer-language-engineering-spring-2010': 'https://ocw.mit.edu/courses/electrical-engineering-and-computer-science/6-035-computer-language-engineering-spring-2010',\n",
            " '6-041-probabilistic-systems-analysis-and-applied-probability-fall-2010': 'https://ocw.mit.edu/courses/electrical-engineering-and-computer-science/6-041-probabilistic-systems-analysis-and-applied-probability-fall-2010',\n",
            " '6-041-probabilistic-systems-analysis-and-applied-probability-spring-2006': 'https://ocw.mit.edu/courses/electrical-engineering-and-computer-science/6-041-probabilistic-systems-analysis-and-applied-probability-spring-2006',\n",
            " '6-041sc-probabilistic-systems-analysis-and-applied-probability-fall-2013': 'https://ocw.mit.edu/courses/electrical-engineering-and-computer-science/6-041sc-probabilistic-systems-analysis-and-applied-probability-fall-2013',\n",
            " '6-042j-mathematics-for-computer-science-fall-2005': 'https://ocw.mit.edu/courses/electrical-engineering-and-computer-science/6-042j-mathematics-for-computer-science-fall-2005',\n",
            " '6-042j-mathematics-for-computer-science-fall-2010': 'https://ocw.mit.edu/courses/electrical-engineering-and-computer-science/6-042j-mathematics-for-computer-science-fall-2010',\n",
            " '6-042j-mathematics-for-computer-science-spring-2015': 'https://ocw.mit.edu/courses/electrical-engineering-and-computer-science/6-042j-mathematics-for-computer-science-spring-2015',\n",
            " '6-045j-automata-computability-and-complexity-spring-2011': 'https://ocw.mit.edu/courses/electrical-engineering-and-computer-science/6-045j-automata-computability-and-complexity-spring-2011',\n",
            " '6-046j-design-and-analysis-of-algorithms-spring-2012': 'https://ocw.mit.edu/courses/electrical-engineering-and-computer-science/6-046j-design-and-analysis-of-algorithms-spring-2012',\n",
            " '6-046j-design-and-analysis-of-algorithms-spring-2015': 'https://ocw.mit.edu/courses/electrical-engineering-and-computer-science/6-046j-design-and-analysis-of-algorithms-spring-2015',\n",
            " '6-046j-introduction-to-algorithms-sma-5503-fall-2005': 'https://ocw.mit.edu/courses/electrical-engineering-and-computer-science/6-046j-introduction-to-algorithms-sma-5503-fall-2005',\n",
            " '6-047-computational-biology-fall-2015': 'https://ocw.mit.edu/courses/electrical-engineering-and-computer-science/6-047-computational-biology-fall-2015',\n",
            " '6-050j-information-and-entropy-spring-2008': 'https://ocw.mit.edu/courses/electrical-engineering-and-computer-science/6-050j-information-and-entropy-spring-2008',\n",
            " '6-055j-the-art-of-approximation-in-science-and-engineering-spring-2008': 'https://ocw.mit.edu/courses/electrical-engineering-and-computer-science/6-055j-the-art-of-approximation-in-science-and-engineering-spring-2008',\n",
            " '6-061-introduction-to-electric-power-systems-spring-2011': 'https://ocw.mit.edu/courses/electrical-engineering-and-computer-science/6-061-introduction-to-electric-power-systems-spring-2011',\n",
            " '6-071j-introduction-to-electronics-signals-and-measurement-spring-2006': 'https://ocw.mit.edu/courses/electrical-engineering-and-computer-science/6-071j-introduction-to-electronics-signals-and-measurement-spring-2006',\n",
            " '6-079-introduction-to-convex-optimization-fall-2009': 'https://ocw.mit.edu/courses/electrical-engineering-and-computer-science/6-079-introduction-to-convex-optimization-fall-2009',\n",
            " '6-080-great-ideas-in-theoretical-computer-science-spring-2008': 'https://ocw.mit.edu/courses/electrical-engineering-and-computer-science/6-080-great-ideas-in-theoretical-computer-science-spring-2008',\n",
            " '6-087-practical-programming-in-c-january-iap-2010': 'https://ocw.mit.edu/courses/electrical-engineering-and-computer-science/6-087-practical-programming-in-c-january-iap-2010',\n",
            " '6-088-introduction-to-c-memory-management-and-c-object-oriented-programming-january-iap-2010': 'https://ocw.mit.edu/courses/electrical-engineering-and-computer-science/6-088-introduction-to-c-memory-management-and-c-object-oriented-programming-january-iap-2010',\n",
            " '6-090-building-programming-experience-a-lead-in-to-6-001-january-iap-2005': 'https://ocw.mit.edu/courses/electrical-engineering-and-computer-science/6-090-building-programming-experience-a-lead-in-to-6-001-january-iap-2005',\n",
            " '6-091-hands-on-introduction-to-electrical-engineering-lab-skills-january-iap-2008': 'https://ocw.mit.edu/courses/electrical-engineering-and-computer-science/6-091-hands-on-introduction-to-electrical-engineering-lab-skills-january-iap-2008',\n",
            " '6-092-bioinformatics-and-proteomics-january-iap-2005': 'https://ocw.mit.edu/courses/electrical-engineering-and-computer-science/6-092-bioinformatics-and-proteomics-january-iap-2005',\n",
            " '6-092-introduction-to-programming-in-java-january-iap-2010': 'https://ocw.mit.edu/courses/electrical-engineering-and-computer-science/6-092-introduction-to-programming-in-java-january-iap-2010',\n",
            " '6-092-java-preparation-for-6-170-january-iap-2006': 'https://ocw.mit.edu/courses/electrical-engineering-and-computer-science/6-092-java-preparation-for-6-170-january-iap-2006',\n",
            " '6-094-introduction-to-matlab-january-iap-2010': 'https://ocw.mit.edu/courses/electrical-engineering-and-computer-science/6-094-introduction-to-matlab-january-iap-2010',\n",
            " '6-096-algorithms-for-computational-biology-spring-2005': 'https://ocw.mit.edu/courses/electrical-engineering-and-computer-science/6-096-algorithms-for-computational-biology-spring-2005',\n",
            " '6-096-introduction-to-c-january-iap-2011': 'https://ocw.mit.edu/courses/electrical-engineering-and-computer-science/6-096-introduction-to-c-january-iap-2011',\n",
            " '6-101-introductory-analog-electronics-laboratory-spring-2007': 'https://ocw.mit.edu/courses/electrical-engineering-and-computer-science/6-101-introductory-analog-electronics-laboratory-spring-2007',\n",
            " '6-111-introductory-digital-systems-laboratory-fall-2002': 'https://ocw.mit.edu/courses/electrical-engineering-and-computer-science/6-111-introductory-digital-systems-laboratory-fall-2002',\n",
            " '6-111-introductory-digital-systems-laboratory-spring-2006': 'https://ocw.mit.edu/courses/electrical-engineering-and-computer-science/6-111-introductory-digital-systems-laboratory-spring-2006',\n",
            " '6-152j-micro-nano-processing-technology-fall-2005': 'https://ocw.mit.edu/courses/electrical-engineering-and-computer-science/6-152j-micro-nano-processing-technology-fall-2005',\n",
            " '6-161-modern-optics-project-laboratory-fall-2005': 'https://ocw.mit.edu/courses/electrical-engineering-and-computer-science/6-161-modern-optics-project-laboratory-fall-2005',\n",
            " '6-163-strobe-project-laboratory-fall-2005': 'https://ocw.mit.edu/courses/electrical-engineering-and-computer-science/6-163-strobe-project-laboratory-fall-2005',\n",
            " '6-170-laboratory-in-software-engineering-fall-2005': 'https://ocw.mit.edu/courses/electrical-engineering-and-computer-science/6-170-laboratory-in-software-engineering-fall-2005',\n",
            " '6-170-software-studio-spring-2013': 'https://ocw.mit.edu/courses/electrical-engineering-and-computer-science/6-170-software-studio-spring-2013',\n",
            " '6-171-software-engineering-for-web-applications-fall-2003': 'https://ocw.mit.edu/courses/electrical-engineering-and-computer-science/6-171-software-engineering-for-web-applications-fall-2003',\n",
            " '6-172-performance-engineering-of-software-systems-fall-2010': 'https://ocw.mit.edu/courses/electrical-engineering-and-computer-science/6-172-performance-engineering-of-software-systems-fall-2010',\n",
            " '6-186-mobile-autonomous-systems-laboratory-january-iap-2005': 'https://ocw.mit.edu/courses/electrical-engineering-and-computer-science/6-186-mobile-autonomous-systems-laboratory-january-iap-2005',\n",
            " '6-189-a-gentle-introduction-to-programming-using-python-january-iap-2008': 'https://ocw.mit.edu/courses/electrical-engineering-and-computer-science/6-189-a-gentle-introduction-to-programming-using-python-january-iap-2008',\n",
            " '6-189-a-gentle-introduction-to-programming-using-python-january-iap-2011': 'https://ocw.mit.edu/courses/electrical-engineering-and-computer-science/6-189-a-gentle-introduction-to-programming-using-python-january-iap-2011',\n",
            " '6-189-multicore-programming-primer-january-iap-2007': 'https://ocw.mit.edu/courses/electrical-engineering-and-computer-science/6-189-multicore-programming-primer-january-iap-2007',\n",
            " '6-231-dynamic-programming-and-stochastic-control-fall-2015': 'https://ocw.mit.edu/courses/electrical-engineering-and-computer-science/6-231-dynamic-programming-and-stochastic-control-fall-2015',\n",
            " '6-241j-dynamic-systems-and-control-spring-2011': 'https://ocw.mit.edu/courses/electrical-engineering-and-computer-science/6-241j-dynamic-systems-and-control-spring-2011',\n",
            " '6-243j-dynamics-of-nonlinear-systems-fall-2003': 'https://ocw.mit.edu/courses/electrical-engineering-and-computer-science/6-243j-dynamics-of-nonlinear-systems-fall-2003',\n",
            " '6-245-multivariable-control-systems-spring-2004': 'https://ocw.mit.edu/courses/electrical-engineering-and-computer-science/6-245-multivariable-control-systems-spring-2004',\n",
            " '6-251j-introduction-to-mathematical-programming-fall-2009': 'https://ocw.mit.edu/courses/electrical-engineering-and-computer-science/6-251j-introduction-to-mathematical-programming-fall-2009',\n",
            " '6-252j-nonlinear-programming-spring-2003': 'https://ocw.mit.edu/courses/electrical-engineering-and-computer-science/6-252j-nonlinear-programming-spring-2003',\n",
            " '6-253-convex-analysis-and-optimization-spring-2012': 'https://ocw.mit.edu/courses/electrical-engineering-and-computer-science/6-253-convex-analysis-and-optimization-spring-2012',\n",
            " '6-254-game-theory-with-engineering-applications-spring-2010': 'https://ocw.mit.edu/courses/electrical-engineering-and-computer-science/6-254-game-theory-with-engineering-applications-spring-2010',\n",
            " '6-262-discrete-stochastic-processes-spring-2011': 'https://ocw.mit.edu/courses/electrical-engineering-and-computer-science/6-262-discrete-stochastic-processes-spring-2011',\n",
            " '6-263j-data-communication-networks-fall-2002': 'https://ocw.mit.edu/courses/electrical-engineering-and-computer-science/6-263j-data-communication-networks-fall-2002',\n",
            " '6-270-autonomous-robot-design-competition-january-iap-2005': 'https://ocw.mit.edu/courses/electrical-engineering-and-computer-science/6-270-autonomous-robot-design-competition-january-iap-2005',\n",
            " '6-301-solid-state-circuits-fall-2010': 'https://ocw.mit.edu/courses/electrical-engineering-and-computer-science/6-301-solid-state-circuits-fall-2010',\n",
            " '6-302-feedback-systems-spring-2007': 'https://ocw.mit.edu/courses/electrical-engineering-and-computer-science/6-302-feedback-systems-spring-2007',\n",
            " '6-331-advanced-circuit-techniques-spring-2002': 'https://ocw.mit.edu/courses/electrical-engineering-and-computer-science/6-331-advanced-circuit-techniques-spring-2002',\n",
            " '6-334-power-electronics-spring-2007': 'https://ocw.mit.edu/courses/electrical-engineering-and-computer-science/6-334-power-electronics-spring-2007',\n",
            " '6-336j-introduction-to-numerical-simulation-sma-5211-fall-2003': 'https://ocw.mit.edu/courses/electrical-engineering-and-computer-science/6-336j-introduction-to-numerical-simulation-sma-5211-fall-2003',\n",
            " '6-341-discrete-time-signal-processing-fall-2005': 'https://ocw.mit.edu/courses/electrical-engineering-and-computer-science/6-341-discrete-time-signal-processing-fall-2005',\n",
            " '6-345-automatic-speech-recognition-spring-2003': 'https://ocw.mit.edu/courses/electrical-engineering-and-computer-science/6-345-automatic-speech-recognition-spring-2003',\n",
            " '6-370-robocraft-programming-competition-january-iap-2005': 'https://ocw.mit.edu/courses/electrical-engineering-and-computer-science/6-370-robocraft-programming-competition-january-iap-2005',\n",
            " '6-370-the-battlecode-programming-competition-january-iap-2013': 'https://ocw.mit.edu/courses/electrical-engineering-and-computer-science/6-370-the-battlecode-programming-competition-january-iap-2013',\n",
            " '6-374-analysis-and-design-of-digital-integrated-circuits-fall-2003': 'https://ocw.mit.edu/courses/electrical-engineering-and-computer-science/6-374-analysis-and-design-of-digital-integrated-circuits-fall-2003',\n",
            " '6-432-stochastic-processes-detection-and-estimation-spring-2004': 'https://ocw.mit.edu/courses/electrical-engineering-and-computer-science/6-432-stochastic-processes-detection-and-estimation-spring-2004',\n",
            " '6-435-system-identification-spring-2005': 'https://ocw.mit.edu/courses/electrical-engineering-and-computer-science/6-435-system-identification-spring-2005',\n",
            " '6-436j-fundamentals-of-probability-fall-2018': 'https://ocw.mit.edu/courses/electrical-engineering-and-computer-science/6-436j-fundamentals-of-probability-fall-2018',\n",
            " '6-438-algorithms-for-inference-fall-2014': 'https://ocw.mit.edu/courses/electrical-engineering-and-computer-science/6-438-algorithms-for-inference-fall-2014',\n",
            " '6-441-information-theory-spring-2010': 'https://ocw.mit.edu/courses/electrical-engineering-and-computer-science/6-441-information-theory-spring-2010',\n",
            " '6-441-information-theory-spring-2016': 'https://ocw.mit.edu/courses/electrical-engineering-and-computer-science/6-441-information-theory-spring-2016',\n",
            " '6-450-principles-of-digital-communication-i-fall-2009': 'https://ocw.mit.edu/courses/electrical-engineering-and-computer-science/6-450-principles-of-digital-communication-i-fall-2009',\n",
            " '6-450-principles-of-digital-communications-i-fall-2006': 'https://ocw.mit.edu/courses/electrical-engineering-and-computer-science/6-450-principles-of-digital-communications-i-fall-2006',\n",
            " '6-451-principles-of-digital-communication-ii-spring-2005': 'https://ocw.mit.edu/courses/electrical-engineering-and-computer-science/6-451-principles-of-digital-communication-ii-spring-2005',\n",
            " '6-452-principles-of-wireless-communications-spring-2006': 'https://ocw.mit.edu/courses/electrical-engineering-and-computer-science/6-452-principles-of-wireless-communications-spring-2006',\n",
            " '6-453-quantum-optical-communication-fall-2016': 'https://ocw.mit.edu/courses/electrical-engineering-and-computer-science/6-453-quantum-optical-communication-fall-2016',\n",
            " '6-541j-speech-communication-spring-2004': 'https://ocw.mit.edu/courses/electrical-engineering-and-computer-science/6-541j-speech-communication-spring-2004',\n",
            " '6-542j-laboratory-on-the-physiology-acoustics-and-perception-of-speech-fall-2005': 'https://ocw.mit.edu/courses/electrical-engineering-and-computer-science/6-542j-laboratory-on-the-physiology-acoustics-and-perception-of-speech-fall-2005',\n",
            " '6-551j-acoustics-of-speech-and-hearing-fall-2004': 'https://ocw.mit.edu/courses/electrical-engineering-and-computer-science/6-551j-acoustics-of-speech-and-hearing-fall-2004',\n",
            " '6-630-electromagnetics-fall-2006': 'https://ocw.mit.edu/courses/electrical-engineering-and-computer-science/6-630-electromagnetics-fall-2006',\n",
            " '6-632-electromagnetic-wave-theory-spring-2003': 'https://ocw.mit.edu/courses/electrical-engineering-and-computer-science/6-632-electromagnetic-wave-theory-spring-2003',\n",
            " '6-635-advanced-electromagnetism-spring-2003': 'https://ocw.mit.edu/courses/electrical-engineering-and-computer-science/6-635-advanced-electromagnetism-spring-2003',\n",
            " '6-637-optical-signals-devices-and-systems-spring-2003': 'https://ocw.mit.edu/courses/electrical-engineering-and-computer-science/6-637-optical-signals-devices-and-systems-spring-2003',\n",
            " '6-641-electromagnetic-fields-forces-and-motion-spring-2005': 'https://ocw.mit.edu/courses/electrical-engineering-and-computer-science/6-641-electromagnetic-fields-forces-and-motion-spring-2005',\n",
            " '6-641-electromagnetic-fields-forces-and-motion-spring-2009': 'https://ocw.mit.edu/courses/electrical-engineering-and-computer-science/6-641-electromagnetic-fields-forces-and-motion-spring-2009',\n",
            " '6-642-continuum-electromechanics-fall-2008': 'https://ocw.mit.edu/courses/electrical-engineering-and-computer-science/6-642-continuum-electromechanics-fall-2008',\n",
            " '6-661-receivers-antennas-and-signals-spring-2003': 'https://ocw.mit.edu/courses/electrical-engineering-and-computer-science/6-661-receivers-antennas-and-signals-spring-2003',\n",
            " '6-685-electric-machines-fall-2013': 'https://ocw.mit.edu/courses/electrical-engineering-and-computer-science/6-685-electric-machines-fall-2013',\n",
            " '6-691-seminar-in-electric-power-systems-spring-2006': 'https://ocw.mit.edu/courses/electrical-engineering-and-computer-science/6-691-seminar-in-electric-power-systems-spring-2006',\n",
            " '6-701-introduction-to-nanoelectronics-spring-2010': 'https://ocw.mit.edu/courses/electrical-engineering-and-computer-science/6-701-introduction-to-nanoelectronics-spring-2010',\n",
            " '6-720j-integrated-microelectronic-devices-spring-2007': 'https://ocw.mit.edu/courses/electrical-engineering-and-computer-science/6-720j-integrated-microelectronic-devices-spring-2007',\n",
            " '6-728-applied-quantum-and-statistical-physics-fall-2006': 'https://ocw.mit.edu/courses/electrical-engineering-and-computer-science/6-728-applied-quantum-and-statistical-physics-fall-2006',\n",
            " '6-730-physics-for-solid-state-applications-spring-2003': 'https://ocw.mit.edu/courses/electrical-engineering-and-computer-science/6-730-physics-for-solid-state-applications-spring-2003',\n",
            " '6-763-applied-superconductivity-fall-2005': 'https://ocw.mit.edu/courses/electrical-engineering-and-computer-science/6-763-applied-superconductivity-fall-2005',\n",
            " '6-772-compound-semiconductor-devices-spring-2003': 'https://ocw.mit.edu/courses/electrical-engineering-and-computer-science/6-772-compound-semiconductor-devices-spring-2003',\n",
            " '6-774-physics-of-microfabrication-front-end-processing-fall-2004': 'https://ocw.mit.edu/courses/electrical-engineering-and-computer-science/6-774-physics-of-microfabrication-front-end-processing-fall-2004',\n",
            " '6-776-high-speed-communication-circuits-spring-2005': 'https://ocw.mit.edu/courses/electrical-engineering-and-computer-science/6-776-high-speed-communication-circuits-spring-2005',\n",
            " '6-777j-design-and-fabrication-of-microelectromechanical-devices-spring-2007': 'https://ocw.mit.edu/courses/electrical-engineering-and-computer-science/6-777j-design-and-fabrication-of-microelectromechanical-devices-spring-2007',\n",
            " '6-780-semiconductor-manufacturing-spring-2003': 'https://ocw.mit.edu/courses/electrical-engineering-and-computer-science/6-780-semiconductor-manufacturing-spring-2003',\n",
            " '6-781j-submicrometer-and-nanometer-technology-spring-2006': 'https://ocw.mit.edu/courses/electrical-engineering-and-computer-science/6-781j-submicrometer-and-nanometer-technology-spring-2006',\n",
            " '6-801-machine-vision-fall-2004': 'https://ocw.mit.edu/courses/electrical-engineering-and-computer-science/6-801-machine-vision-fall-2004',\n",
            " '6-803-the-human-intelligence-enterprise-spring-2002': 'https://ocw.mit.edu/courses/electrical-engineering-and-computer-science/6-803-the-human-intelligence-enterprise-spring-2002',\n",
            " '6-803-the-human-intelligence-enterprise-spring-2006': 'https://ocw.mit.edu/courses/electrical-engineering-and-computer-science/6-803-the-human-intelligence-enterprise-spring-2006',\n",
            " '6-805-ethics-and-the-law-on-the-electronic-frontier-fall-2005': 'https://ocw.mit.edu/courses/electrical-engineering-and-computer-science/6-805-ethics-and-the-law-on-the-electronic-frontier-fall-2005',\n",
            " '6-811-principles-and-practice-of-assistive-technology-fall-2014': 'https://ocw.mit.edu/courses/electrical-engineering-and-computer-science/6-811-principles-and-practice-of-assistive-technology-fall-2014',\n",
            " '6-820-fundamentals-of-program-analysis-fall-2015': 'https://ocw.mit.edu/courses/electrical-engineering-and-computer-science/6-820-fundamentals-of-program-analysis-fall-2015',\n",
            " '6-821-programming-languages-fall-2002': 'https://ocw.mit.edu/courses/electrical-engineering-and-computer-science/6-821-programming-languages-fall-2002',\n",
            " '6-823-computer-system-architecture-fall-2005': 'https://ocw.mit.edu/courses/electrical-engineering-and-computer-science/6-823-computer-system-architecture-fall-2005',\n",
            " '6-824-distributed-computer-systems-engineering-spring-2006': 'https://ocw.mit.edu/courses/electrical-engineering-and-computer-science/6-824-distributed-computer-systems-engineering-spring-2006',\n",
            " '6-825-techniques-in-artificial-intelligence-sma-5504-fall-2002': 'https://ocw.mit.edu/courses/electrical-engineering-and-computer-science/6-825-techniques-in-artificial-intelligence-sma-5504-fall-2002',\n",
            " '6-826-principles-of-computer-systems-spring-2002': 'https://ocw.mit.edu/courses/electrical-engineering-and-computer-science/6-826-principles-of-computer-systems-spring-2002',\n",
            " '6-827-multithreaded-parallelism-languages-and-compilers-fall-2002': 'https://ocw.mit.edu/courses/electrical-engineering-and-computer-science/6-827-multithreaded-parallelism-languages-and-compilers-fall-2002',\n",
            " '6-828-operating-system-engineering-fall-2012': 'https://ocw.mit.edu/courses/electrical-engineering-and-computer-science/6-828-operating-system-engineering-fall-2012',\n",
            " '6-829-computer-networks-fall-2002': 'https://ocw.mit.edu/courses/electrical-engineering-and-computer-science/6-829-computer-networks-fall-2002',\n",
            " '6-830-database-systems-fall-2010': 'https://ocw.mit.edu/courses/electrical-engineering-and-computer-science/6-830-database-systems-fall-2010',\n",
            " '6-831-user-interface-design-and-implementation-spring-2011': 'https://ocw.mit.edu/courses/electrical-engineering-and-computer-science/6-831-user-interface-design-and-implementation-spring-2011',\n",
            " '6-832-underactuated-robotics-spring-2009': 'https://ocw.mit.edu/courses/electrical-engineering-and-computer-science/6-832-underactuated-robotics-spring-2009',\n",
            " '6-837-computer-graphics-fall-2012': 'https://ocw.mit.edu/courses/electrical-engineering-and-computer-science/6-837-computer-graphics-fall-2012',\n",
            " '6-838-algorithms-for-computer-animation-fall-2002': 'https://ocw.mit.edu/courses/electrical-engineering-and-computer-science/6-838-algorithms-for-computer-animation-fall-2002',\n",
            " '6-844-computability-theory-of-and-with-scheme-spring-2003': 'https://ocw.mit.edu/courses/electrical-engineering-and-computer-science/6-844-computability-theory-of-and-with-scheme-spring-2003',\n",
            " '6-845-quantum-complexity-theory-fall-2010': 'https://ocw.mit.edu/courses/electrical-engineering-and-computer-science/6-845-quantum-complexity-theory-fall-2010',\n",
            " '6-849-geometric-folding-algorithms-linkages-origami-polyhedra-fall-2012': 'https://ocw.mit.edu/courses/electrical-engineering-and-computer-science/6-849-geometric-folding-algorithms-linkages-origami-polyhedra-fall-2012',\n",
            " '6-851-advanced-data-structures-spring-2012': 'https://ocw.mit.edu/courses/electrical-engineering-and-computer-science/6-851-advanced-data-structures-spring-2012',\n",
            " '6-852j-distributed-algorithms-fall-2009': 'https://ocw.mit.edu/courses/electrical-engineering-and-computer-science/6-852j-distributed-algorithms-fall-2009',\n",
            " '6-854j-advanced-algorithms-fall-2005': 'https://ocw.mit.edu/courses/electrical-engineering-and-computer-science/6-854j-advanced-algorithms-fall-2005',\n",
            " '6-854j-advanced-algorithms-fall-2008': 'https://ocw.mit.edu/courses/electrical-engineering-and-computer-science/6-854j-advanced-algorithms-fall-2008',\n",
            " '6-856j-randomized-algorithms-fall-2002': 'https://ocw.mit.edu/courses/electrical-engineering-and-computer-science/6-856j-randomized-algorithms-fall-2002',\n",
            " '6-857-network-and-computer-security-spring-2014': 'https://ocw.mit.edu/courses/electrical-engineering-and-computer-science/6-857-network-and-computer-security-spring-2014',\n",
            " '6-858-computer-systems-security-fall-2014': 'https://ocw.mit.edu/courses/electrical-engineering-and-computer-science/6-858-computer-systems-security-fall-2014',\n",
            " '6-863j-natural-language-and-the-computer-representation-of-knowledge-spring-2003': 'https://ocw.mit.edu/courses/electrical-engineering-and-computer-science/6-863j-natural-language-and-the-computer-representation-of-knowledge-spring-2003',\n",
            " '6-864-advanced-natural-language-processing-fall-2005': 'https://ocw.mit.edu/courses/electrical-engineering-and-computer-science/6-864-advanced-natural-language-processing-fall-2005',\n",
            " '6-867-machine-learning-fall-2006': 'https://ocw.mit.edu/courses/electrical-engineering-and-computer-science/6-867-machine-learning-fall-2006',\n",
            " '6-868j-the-society-of-mind-fall-2011': 'https://ocw.mit.edu/courses/electrical-engineering-and-computer-science/6-868j-the-society-of-mind-fall-2011',\n",
            " '6-871-knowledge-based-applications-systems-spring-2005': 'https://ocw.mit.edu/courses/electrical-engineering-and-computer-science/6-871-knowledge-based-applications-systems-spring-2005',\n",
            " '6-875-cryptography-and-cryptanalysis-spring-2005': 'https://ocw.mit.edu/courses/electrical-engineering-and-computer-science/6-875-cryptography-and-cryptanalysis-spring-2005',\n",
            " '6-876j-advanced-topics-in-cryptography-spring-2003': 'https://ocw.mit.edu/courses/electrical-engineering-and-computer-science/6-876j-advanced-topics-in-cryptography-spring-2003',\n",
            " '6-877j-computational-evolutionary-biology-fall-2005': 'https://ocw.mit.edu/courses/electrical-engineering-and-computer-science/6-877j-computational-evolutionary-biology-fall-2005',\n",
            " '6-881-computational-personal-genomics-making-sense-of-complete-genomes-spring-2016': 'https://ocw.mit.edu/courses/electrical-engineering-and-computer-science/6-881-computational-personal-genomics-making-sense-of-complete-genomes-spring-2016',\n",
            " '6-881-representation-and-modeling-for-image-analysis-spring-2005': 'https://ocw.mit.edu/courses/electrical-engineering-and-computer-science/6-881-representation-and-modeling-for-image-analysis-spring-2005',\n",
            " '6-883-pervasive-human-centric-computing-sma-5508-spring-2006': 'https://ocw.mit.edu/courses/electrical-engineering-and-computer-science/6-883-pervasive-human-centric-computing-sma-5508-spring-2006',\n",
            " '6-883-program-analysis-fall-2005': 'https://ocw.mit.edu/courses/electrical-engineering-and-computer-science/6-883-program-analysis-fall-2005',\n",
            " '6-884-complex-digital-systems-spring-2005': 'https://ocw.mit.edu/courses/electrical-engineering-and-computer-science/6-884-complex-digital-systems-spring-2005',\n",
            " '6-890-algorithmic-lower-bounds-fun-with-hardness-proofs-fall-2014': 'https://ocw.mit.edu/courses/electrical-engineering-and-computer-science/6-890-algorithmic-lower-bounds-fun-with-hardness-proofs-fall-2014',\n",
            " '6-892-computational-models-of-discourse-spring-2004': 'https://ocw.mit.edu/courses/electrical-engineering-and-computer-science/6-892-computational-models-of-discourse-spring-2004',\n",
            " '6-895-essential-coding-theory-fall-2004': 'https://ocw.mit.edu/courses/electrical-engineering-and-computer-science/6-895-essential-coding-theory-fall-2004',\n",
            " '6-895-theory-of-parallel-systems-sma-5509-fall-2003': 'https://ocw.mit.edu/courses/electrical-engineering-and-computer-science/6-895-theory-of-parallel-systems-sma-5509-fall-2003',\n",
            " '6-896-theory-of-parallel-hardware-sma-5511-spring-2004': 'https://ocw.mit.edu/courses/electrical-engineering-and-computer-science/6-896-theory-of-parallel-hardware-sma-5511-spring-2004',\n",
            " '6-897-selected-topics-in-cryptography-spring-2004': 'https://ocw.mit.edu/courses/electrical-engineering-and-computer-science/6-897-selected-topics-in-cryptography-spring-2004',\n",
            " '6-901-inventions-and-patents-fall-2005': 'https://ocw.mit.edu/courses/electrical-engineering-and-computer-science/6-901-inventions-and-patents-fall-2005',\n",
            " '6-911-transcribing-prosodic-structure-of-spoken-utterances-with-tobi-january-iap-2006': 'https://ocw.mit.edu/courses/electrical-engineering-and-computer-science/6-911-transcribing-prosodic-structure-of-spoken-utterances-with-tobi-january-iap-2006',\n",
            " '6-912-introduction-to-copyright-law-january-iap-2006': 'https://ocw.mit.edu/courses/electrical-engineering-and-computer-science/6-912-introduction-to-copyright-law-january-iap-2006',\n",
            " '6-931-development-of-inventions-and-creative-ideas-spring-2008': 'https://ocw.mit.edu/courses/electrical-engineering-and-computer-science/6-931-development-of-inventions-and-creative-ideas-spring-2008',\n",
            " '6-933j-the-structure-of-engineering-revolutions-fall-2001': 'https://ocw.mit.edu/courses/electrical-engineering-and-computer-science/6-933j-the-structure-of-engineering-revolutions-fall-2001',\n",
            " '6-945-adventures-in-advanced-symbolic-programming-spring-2009': 'https://ocw.mit.edu/courses/electrical-engineering-and-computer-science/6-945-adventures-in-advanced-symbolic-programming-spring-2009',\n",
            " '6-972-algebraic-techniques-and-semidefinite-optimization-spring-2006': 'https://ocw.mit.edu/courses/electrical-engineering-and-computer-science/6-972-algebraic-techniques-and-semidefinite-optimization-spring-2006',\n",
            " '6-973-communication-system-design-spring-2006': 'https://ocw.mit.edu/courses/electrical-engineering-and-computer-science/6-973-communication-system-design-spring-2006',\n",
            " '6-973-organic-optoelectronics-spring-2003': 'https://ocw.mit.edu/courses/electrical-engineering-and-computer-science/6-973-organic-optoelectronics-spring-2003',\n",
            " '6-974-fundamentals-of-photonics-quantum-electronics-spring-2006': 'https://ocw.mit.edu/courses/electrical-engineering-and-computer-science/6-974-fundamentals-of-photonics-quantum-electronics-spring-2006',\n",
            " '6-976-high-speed-communication-circuits-and-systems-spring-2003': 'https://ocw.mit.edu/courses/electrical-engineering-and-computer-science/6-976-high-speed-communication-circuits-and-systems-spring-2003',\n",
            " '6-977-semiconductor-optoelectronics-theory-and-design-fall-2002': 'https://ocw.mit.edu/courses/electrical-engineering-and-computer-science/6-977-semiconductor-optoelectronics-theory-and-design-fall-2002',\n",
            " '6-977-ultrafast-optics-spring-2005': 'https://ocw.mit.edu/courses/electrical-engineering-and-computer-science/6-977-ultrafast-optics-spring-2005',\n",
            " '6-s079-nanomaker-spring-2013': 'https://ocw.mit.edu/courses/electrical-engineering-and-computer-science/6-s079-nanomaker-spring-2013',\n",
            " '6-s095-programming-for-the-puzzled-january-iap-2018': 'https://ocw.mit.edu/courses/electrical-engineering-and-computer-science/6-s095-programming-for-the-puzzled-january-iap-2018',\n",
            " '6-s096-effective-programming-in-c-and-c-january-iap-2014': 'https://ocw.mit.edu/courses/electrical-engineering-and-computer-science/6-s096-effective-programming-in-c-and-c-january-iap-2014',\n",
            " '6-s096-introduction-to-c-and-c-january-iap-2013': 'https://ocw.mit.edu/courses/electrical-engineering-and-computer-science/6-s096-introduction-to-c-and-c-january-iap-2013'}\n",
            "190\n"
          ],
          "name": "stdout"
        }
      ]
    },
    {
      "cell_type": "code",
      "metadata": {
        "id": "vVFTk3UZCSW9",
        "colab_type": "code",
        "outputId": "fa86fbca-28a1-4352-a133-e913a39a9e0e",
        "colab": {
          "base_uri": "https://localhost:8080/",
          "height": 1457
        }
      },
      "source": [
        "\n",
        "import os\n",
        "import urllib3\n",
        "urllib3.disable_warnings(urllib3.exceptions.InsecureRequestWarning)\n",
        "#import ssl\n",
        "import shutil\n",
        "#import re\n",
        "#context = ssl._create_unverified_context()\n",
        "\n",
        "for i in datastore :\n",
        "    r = requests.get(datastore[i])\n",
        "    if r.status_code == 200:\n",
        "        \n",
        "        r.encoding = 'utf-8'\n",
        "        soup = BeautifulSoup(r.content, 'html.parser')\n",
        "        \n",
        "        if soup.find('p',{ 'itemprop':'typicalAgeRange'}).text == level :\n",
        "            k = requests.get(datastore[i]+'/download-course-materials')\n",
        "           \n",
        "            if k.status_code == 200:\n",
        "                #print('reached') ; break\n",
        "                k.encoding == 200\n",
        "                soup =  BeautifulSoup(k.content, 'html.parser')\n",
        "                o = soup.find('a', { 'class':'downloadNowButton', 'target':'blank'})\n",
        "               \n",
        "\n",
        "                #zippycontent = requests.get(baseurl+str(o['href']))\n",
        "                #file = open(str(i+'.zip'),'w')\n",
        "                #file.write(zippycontent.read())\n",
        "                #file.close()\n",
        "                \n",
        "                r = requests.get(baseurl+str(o['href']), verify=False,stream=True)\n",
        "                r.raw.decode_content = True\n",
        "                with open( str(i+'.zip'), 'wb') as file:\n",
        "                    shutil.copyfileobj(r.raw, file)\n",
        "                print(\"Done downloading \"+ i) "
      ],
      "execution_count": 0,
      "outputs": [
        {
          "output_type": "stream",
          "text": [
            "Done downloading 6-00sc-introduction-to-computer-science-and-programming-spring-2011\n",
            "Done downloading 6-00-introduction-to-computer-science-and-programming-fall-2008\n",
            "Done downloading 6-0001-introduction-to-computer-science-and-programming-in-python-fall-2016\n",
            "Done downloading 6-0002-introduction-to-computational-thinking-and-data-science-fall-2016\n",
            "Done downloading 6-01sc-introduction-to-electrical-engineering-and-computer-science-i-spring-2011\n",
            "Done downloading 6-001-structure-and-interpretation-of-computer-programs-spring-2005\n",
            "Done downloading 6-002-circuits-and-electronics-spring-2007\n",
            "Done downloading 6-003-signals-and-systems-fall-2011\n",
            "Done downloading 6-004-computation-structures-spring-2009\n",
            "Done downloading 6-005-software-construction-spring-2016\n",
            "Done downloading 6-005-elements-of-software-construction-fall-2008\n",
            "Done downloading 6-006-introduction-to-algorithms-fall-2011\n",
            "Done downloading 6-006-introduction-to-algorithms-spring-2008\n",
            "Done downloading 6-007-electromagnetic-energy-from-motors-to-lasers-spring-2011\n",
            "Done downloading 6-011-signals-systems-and-inference-spring-2018\n",
            "Done downloading 6-011-introduction-to-communication-control-and-signal-processing-spring-2010\n",
            "Done downloading 6-012-microelectronic-devices-and-circuits-fall-2009\n",
            "Done downloading 6-012-microelectronic-devices-and-circuits-spring-2009\n",
            "Done downloading 6-012-microelectronic-devices-and-circuits-fall-2005\n",
            "Done downloading 6-013-electromagnetics-and-applications-spring-2009\n",
            "Done downloading 6-013-electromagnetics-and-applications-fall-2005\n",
            "Done downloading 6-02-introduction-to-eecs-ii-digital-communication-systems-fall-2012\n",
            "Done downloading 6-021j-quantitative-physiology-cells-and-tissues-fall-2004\n",
            "Done downloading 6-033-computer-system-engineering-spring-2018\n",
            "Done downloading 6-034-artificial-intelligence-fall-2010\n",
            "Done downloading 6-034-artificial-intelligence-spring-2005\n",
            "Done downloading 6-035-computer-language-engineering-spring-2010\n",
            "Done downloading 6-035-computer-language-engineering-sma-5502-fall-2005\n",
            "Done downloading 6-041-probabilistic-systems-analysis-and-applied-probability-spring-2006\n",
            "Done downloading 6-041sc-probabilistic-systems-analysis-and-applied-probability-fall-2013\n",
            "Done downloading 6-042j-mathematics-for-computer-science-spring-2015\n",
            "Done downloading 6-042j-mathematics-for-computer-science-fall-2010\n",
            "Done downloading 6-042j-mathematics-for-computer-science-fall-2005\n",
            "Done downloading 6-045j-automata-computability-and-complexity-spring-2011\n",
            "Done downloading 6-046j-design-and-analysis-of-algorithms-spring-2015\n",
            "Done downloading 6-046j-design-and-analysis-of-algorithms-spring-2012\n",
            "Done downloading 6-046j-introduction-to-algorithms-sma-5503-fall-2005\n",
            "Done downloading 6-050j-information-and-entropy-spring-2008\n",
            "Done downloading 6-055j-the-art-of-approximation-in-science-and-engineering-spring-2008\n",
            "Done downloading 6-061-introduction-to-electric-power-systems-spring-2011\n",
            "Done downloading 6-071j-introduction-to-electronics-signals-and-measurement-spring-2006\n",
            "Done downloading 6-080-great-ideas-in-theoretical-computer-science-spring-2008\n",
            "Done downloading 6-087-practical-programming-in-c-january-iap-2010\n",
            "Done downloading 6-088-introduction-to-c-memory-management-and-c-object-oriented-programming-january-iap-2010\n",
            "Done downloading 6-090-building-programming-experience-a-lead-in-to-6-001-january-iap-2005\n",
            "Done downloading 6-091-hands-on-introduction-to-electrical-engineering-lab-skills-january-iap-2008\n",
            "Done downloading 6-092-introduction-to-programming-in-java-january-iap-2010\n",
            "Done downloading 6-092-java-preparation-for-6-170-january-iap-2006\n",
            "Done downloading 6-094-introduction-to-matlab-january-iap-2010\n",
            "Done downloading 6-096-introduction-to-c-january-iap-2011\n",
            "Done downloading 6-096-algorithms-for-computational-biology-spring-2005\n",
            "Done downloading 6-101-introductory-analog-electronics-laboratory-spring-2007\n",
            "Done downloading 6-111-introductory-digital-systems-laboratory-spring-2006\n",
            "Done downloading 6-111-introductory-digital-systems-laboratory-fall-2002\n",
            "Done downloading 6-152j-micro-nano-processing-technology-fall-2005\n",
            "Done downloading 6-161-modern-optics-project-laboratory-fall-2005\n",
            "Done downloading 6-163-strobe-project-laboratory-fall-2005\n",
            "Done downloading 6-170-software-studio-spring-2013\n",
            "Done downloading 6-170-laboratory-in-software-engineering-fall-2005\n",
            "Done downloading 6-171-software-engineering-for-web-applications-fall-2003\n",
            "Done downloading 6-172-performance-engineering-of-software-systems-fall-2010\n",
            "Done downloading 6-186-mobile-autonomous-systems-laboratory-january-iap-2005\n",
            "Done downloading 6-189-a-gentle-introduction-to-programming-using-python-january-iap-2011\n",
            "Done downloading 6-189-a-gentle-introduction-to-programming-using-python-january-iap-2008\n",
            "Done downloading 6-189-multicore-programming-primer-january-iap-2007\n",
            "Done downloading 6-270-autonomous-robot-design-competition-january-iap-2005\n",
            "Done downloading 6-701-introduction-to-nanoelectronics-spring-2010\n",
            "Done downloading 6-801-machine-vision-fall-2004\n",
            "Done downloading 6-803-the-human-intelligence-enterprise-spring-2006\n",
            "Done downloading 6-803-the-human-intelligence-enterprise-spring-2002\n",
            "Done downloading 6-805-ethics-and-the-law-on-the-electronic-frontier-fall-2005\n",
            "Done downloading 6-811-principles-and-practice-of-assistive-technology-fall-2014\n",
            "Done downloading 6-820-fundamentals-of-program-analysis-fall-2015\n",
            "Done downloading 6-837-computer-graphics-fall-2012\n",
            "Done downloading 6-901-inventions-and-patents-fall-2005\n",
            "Done downloading 6-911-transcribing-prosodic-structure-of-spoken-utterances-with-tobi-january-iap-2006\n",
            "Done downloading 6-912-introduction-to-copyright-law-january-iap-2006\n",
            "Done downloading 6-s079-nanomaker-spring-2013\n",
            "Done downloading 6-s095-programming-for-the-puzzled-january-iap-2018\n",
            "Done downloading 6-s096-effective-programming-in-c-and-c-january-iap-2014\n",
            "Done downloading 6-s096-introduction-to-c-and-c-january-iap-2013\n"
          ],
          "name": "stdout"
        }
      ]
    },
    {
      "cell_type": "code",
      "metadata": {
        "id": "W1QLMKi2CSXL",
        "colab_type": "code",
        "outputId": "6f762228-0400-4394-9ff6-d1479c8756e6",
        "colab": {
          "base_uri": "https://localhost:8080/",
          "height": 35
        }
      },
      "source": [
        "!ls *.zip | wc -l"
      ],
      "execution_count": 0,
      "outputs": [
        {
          "output_type": "stream",
          "text": [
            "81\n"
          ],
          "name": "stdout"
        }
      ]
    },
    {
      "cell_type": "code",
      "metadata": {
        "id": "rmv9OiDWNaXm",
        "colab_type": "code",
        "outputId": "ec583c50-bd80-4b1b-c7f8-36c43244d195",
        "colab": {
          "base_uri": "https://localhost:8080/",
          "height": 126
        }
      },
      "source": [
        "__import__('google').colab.drive.mount('/drive')"
      ],
      "execution_count": 0,
      "outputs": [
        {
          "output_type": "stream",
          "text": [
            "Go to this URL in a browser: https://accounts.google.com/o/oauth2/auth?client_id=947318989803-6bn6qk8qdgf4n4g3pfee6491hc0brc4i.apps.googleusercontent.com&redirect_uri=urn%3Aietf%3Awg%3Aoauth%3A2.0%3Aoob&scope=email%20https%3A%2F%2Fwww.googleapis.com%2Fauth%2Fdocs.test%20https%3A%2F%2Fwww.googleapis.com%2Fauth%2Fdrive%20https%3A%2F%2Fwww.googleapis.com%2Fauth%2Fdrive.photos.readonly%20https%3A%2F%2Fwww.googleapis.com%2Fauth%2Fpeopleapi.readonly&response_type=code\n",
            "\n",
            "Enter your authorization code:\n",
            "··········\n",
            "Mounted at /drive\n"
          ],
          "name": "stdout"
        }
      ]
    },
    {
      "cell_type": "code",
      "metadata": {
        "id": "BW1HD_G4N3xx",
        "colab_type": "code",
        "outputId": "37c99807-8105-472c-fa58-6e5ce531ac59",
        "colab": {
          "base_uri": "https://localhost:8080/",
          "height": 1457
        }
      },
      "source": [
        "!zip -r MIT-CS-EE.zip *.zip ; mv MIT-CS-EE.zip /drive/My\\ Drive "
      ],
      "execution_count": 0,
      "outputs": [
        {
          "output_type": "stream",
          "text": [
            "updating: 6-0001-introduction-to-computer-science-and-programming-in-python-fall-2016.zip (stored 0%)\n",
            "updating: 6-0002-introduction-to-computational-thinking-and-data-science-fall-2016.zip (stored 0%)\n",
            "updating: 6-001-structure-and-interpretation-of-computer-programs-spring-2005.zip (stored 0%)\n",
            "updating: 6-002-circuits-and-electronics-spring-2007.zip (stored 0%)\n",
            "updating: 6-003-signals-and-systems-fall-2011.zip (stored 0%)\n",
            "updating: 6-004-computation-structures-spring-2009.zip (stored 0%)\n",
            "updating: 6-005-elements-of-software-construction-fall-2008.zip (stored 0%)\n",
            "updating: 6-005-software-construction-spring-2016.zip (stored 0%)\n",
            "updating: 6-006-introduction-to-algorithms-fall-2011.zip (stored 0%)\n",
            "updating: 6-006-introduction-to-algorithms-spring-2008.zip (stored 0%)\n",
            "updating: 6-007-electromagnetic-energy-from-motors-to-lasers-spring-2011.zip (stored 0%)\n",
            "updating: 6-00-introduction-to-computer-science-and-programming-fall-2008.zip (stored 0%)\n",
            "updating: 6-00sc-introduction-to-computer-science-and-programming-spring-2011.zip (stored 0%)\n",
            "updating: 6-011-introduction-to-communication-control-and-signal-processing-spring-2010.zip (stored 0%)\n",
            "updating: 6-011-signals-systems-and-inference-spring-2018.zip (stored 0%)\n",
            "updating: 6-012-microelectronic-devices-and-circuits-fall-2005.zip (stored 0%)\n",
            "updating: 6-012-microelectronic-devices-and-circuits-fall-2009.zip (stored 0%)\n",
            "updating: 6-012-microelectronic-devices-and-circuits-spring-2009.zip (stored 0%)\n",
            "updating: 6-013-electromagnetics-and-applications-fall-2005.zip (stored 0%)\n",
            "updating: 6-013-electromagnetics-and-applications-spring-2009.zip (stored 0%)\n",
            "updating: 6-01sc-introduction-to-electrical-engineering-and-computer-science-i-spring-2011.zip (stored 0%)\n",
            "updating: 6-021j-quantitative-physiology-cells-and-tissues-fall-2004.zip (stored 0%)\n",
            "updating: 6-02-introduction-to-eecs-ii-digital-communication-systems-fall-2012.zip (stored 0%)\n",
            "updating: 6-033-computer-system-engineering-spring-2018.zip (stored 0%)\n",
            "updating: 6-034-artificial-intelligence-fall-2010.zip (stored 0%)\n",
            "updating: 6-034-artificial-intelligence-spring-2005.zip (stored 0%)\n",
            "updating: 6-035-computer-language-engineering-sma-5502-fall-2005.zip (stored 0%)\n",
            "updating: 6-035-computer-language-engineering-spring-2010.zip (stored 0%)\n",
            "updating: 6-041-probabilistic-systems-analysis-and-applied-probability-spring-2006.zip (stored 0%)\n",
            "updating: 6-041sc-probabilistic-systems-analysis-and-applied-probability-fall-2013.zip (stored 0%)\n",
            "updating: 6-042j-mathematics-for-computer-science-fall-2005.zip (stored 0%)\n",
            "updating: 6-042j-mathematics-for-computer-science-fall-2010.zip (stored 0%)\n",
            "updating: 6-042j-mathematics-for-computer-science-spring-2015.zip (stored 0%)\n",
            "updating: 6-045j-automata-computability-and-complexity-spring-2011.zip (stored 0%)\n",
            "updating: 6-046j-design-and-analysis-of-algorithms-spring-2012.zip (stored 0%)\n",
            "updating: 6-046j-design-and-analysis-of-algorithms-spring-2015.zip (stored 0%)\n",
            "updating: 6-046j-introduction-to-algorithms-sma-5503-fall-2005.zip (stored 0%)\n",
            "updating: 6-050j-information-and-entropy-spring-2008.zip (stored 0%)\n",
            "updating: 6-055j-the-art-of-approximation-in-science-and-engineering-spring-2008.zip (stored 0%)\n",
            "updating: 6-061-introduction-to-electric-power-systems-spring-2011.zip (stored 0%)\n",
            "updating: 6-071j-introduction-to-electronics-signals-and-measurement-spring-2006.zip (stored 0%)\n",
            "updating: 6-080-great-ideas-in-theoretical-computer-science-spring-2008.zip (stored 0%)\n",
            "updating: 6-087-practical-programming-in-c-january-iap-2010.zip (stored 0%)\n",
            "updating: 6-088-introduction-to-c-memory-management-and-c-object-oriented-programming-january-iap-2010.zip (stored 0%)\n",
            "updating: 6-090-building-programming-experience-a-lead-in-to-6-001-january-iap-2005.zip (stored 0%)\n",
            "updating: 6-091-hands-on-introduction-to-electrical-engineering-lab-skills-january-iap-2008.zip (stored 0%)\n",
            "updating: 6-092-introduction-to-programming-in-java-january-iap-2010.zip (stored 0%)\n",
            "updating: 6-092-java-preparation-for-6-170-january-iap-2006.zip (stored 0%)\n",
            "updating: 6-094-introduction-to-matlab-january-iap-2010.zip (stored 0%)\n",
            "updating: 6-096-algorithms-for-computational-biology-spring-2005.zip (stored 0%)\n",
            "updating: 6-096-introduction-to-c-january-iap-2011.zip (stored 0%)\n",
            "updating: 6-101-introductory-analog-electronics-laboratory-spring-2007.zip (stored 0%)\n",
            "updating: 6-111-introductory-digital-systems-laboratory-fall-2002.zip (stored 0%)\n",
            "updating: 6-111-introductory-digital-systems-laboratory-spring-2006.zip (stored 0%)\n",
            "updating: 6-152j-micro-nano-processing-technology-fall-2005.zip (stored 0%)\n",
            "updating: 6-161-modern-optics-project-laboratory-fall-2005.zip (stored 0%)\n",
            "updating: 6-163-strobe-project-laboratory-fall-2005.zip (stored 0%)\n",
            "updating: 6-170-laboratory-in-software-engineering-fall-2005.zip (stored 0%)\n",
            "updating: 6-170-software-studio-spring-2013.zip (stored 0%)\n",
            "updating: 6-171-software-engineering-for-web-applications-fall-2003.zip (stored 0%)\n",
            "updating: 6-172-performance-engineering-of-software-systems-fall-2010.zip (stored 0%)\n",
            "updating: 6-186-mobile-autonomous-systems-laboratory-january-iap-2005.zip (stored 0%)\n",
            "updating: 6-189-a-gentle-introduction-to-programming-using-python-january-iap-2008.zip (stored 0%)\n",
            "updating: 6-189-a-gentle-introduction-to-programming-using-python-january-iap-2011.zip (stored 0%)\n",
            "updating: 6-189-multicore-programming-primer-january-iap-2007.zip (stored 0%)\n",
            "updating: 6-270-autonomous-robot-design-competition-january-iap-2005.zip (stored 0%)\n",
            "updating: 6-701-introduction-to-nanoelectronics-spring-2010.zip (stored 0%)\n",
            "updating: 6-801-machine-vision-fall-2004.zip (stored 0%)\n",
            "updating: 6-803-the-human-intelligence-enterprise-spring-2002.zip (stored 0%)\n",
            "updating: 6-803-the-human-intelligence-enterprise-spring-2006.zip (stored 0%)\n",
            "updating: 6-805-ethics-and-the-law-on-the-electronic-frontier-fall-2005.zip (stored 0%)\n",
            "updating: 6-811-principles-and-practice-of-assistive-technology-fall-2014.zip (stored 0%)\n",
            "updating: 6-820-fundamentals-of-program-analysis-fall-2015.zip (stored 0%)\n",
            "updating: 6-837-computer-graphics-fall-2012.zip (stored 0%)\n",
            "updating: 6-901-inventions-and-patents-fall-2005.zip (stored 0%)\n",
            "updating: 6-911-transcribing-prosodic-structure-of-spoken-utterances-with-tobi-january-iap-2006.zip (stored 0%)\n",
            "updating: 6-912-introduction-to-copyright-law-january-iap-2006.zip (stored 0%)\n",
            "updating: 6-s079-nanomaker-spring-2013.zip (stored 0%)\n",
            "updating: 6-s095-programming-for-the-puzzled-january-iap-2018.zip (stored 0%)\n",
            "updating: 6-s096-effective-programming-in-c-and-c-january-iap-2014.zip (stored 0%)\n",
            "updating: 6-s096-introduction-to-c-and-c-january-iap-2013.zip (stored 0%)\n"
          ],
          "name": "stdout"
        }
      ]
    },
    {
      "cell_type": "code",
      "metadata": {
        "id": "enyfigOyQBTj",
        "colab_type": "code",
        "colab": {}
      },
      "source": [
        ""
      ],
      "execution_count": 0,
      "outputs": []
    }
  ]
}